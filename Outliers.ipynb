{
 "cells": [
  {
   "cell_type": "code",
   "execution_count": 1,
   "metadata": {},
   "outputs": [],
   "source": [
    "import pandas as pd\n",
    "import numpy as np\n",
    "import seaborn as sns\n",
    "import matplotlib.pyplot as plt\n",
    "import warnings\n",
    "import folium\n",
    "from folium.plugins import HeatMap"
   ]
  },
  {
   "cell_type": "code",
   "execution_count": 2,
   "metadata": {},
   "outputs": [
    {
     "data": {
      "text/html": [
       "<div>\n",
       "<style scoped>\n",
       "    .dataframe tbody tr th:only-of-type {\n",
       "        vertical-align: middle;\n",
       "    }\n",
       "\n",
       "    .dataframe tbody tr th {\n",
       "        vertical-align: top;\n",
       "    }\n",
       "\n",
       "    .dataframe thead th {\n",
       "        text-align: right;\n",
       "    }\n",
       "</style>\n",
       "<table border=\"1\" class=\"dataframe\">\n",
       "  <thead>\n",
       "    <tr style=\"text-align: right;\">\n",
       "      <th></th>\n",
       "      <th>id</th>\n",
       "      <th>date</th>\n",
       "      <th>price</th>\n",
       "      <th>bedrooms</th>\n",
       "      <th>bathrooms</th>\n",
       "      <th>sqft_living</th>\n",
       "      <th>sqft_lot</th>\n",
       "      <th>floors</th>\n",
       "      <th>waterfront</th>\n",
       "      <th>view</th>\n",
       "      <th>...</th>\n",
       "      <th>grade</th>\n",
       "      <th>sqft_above</th>\n",
       "      <th>sqft_basement</th>\n",
       "      <th>yr_built</th>\n",
       "      <th>yr_renovated</th>\n",
       "      <th>zipcode</th>\n",
       "      <th>lat</th>\n",
       "      <th>long</th>\n",
       "      <th>sqft_living15</th>\n",
       "      <th>sqft_lot15</th>\n",
       "    </tr>\n",
       "  </thead>\n",
       "  <tbody>\n",
       "    <tr>\n",
       "      <th>0</th>\n",
       "      <td>7129300520</td>\n",
       "      <td>10/13/2014</td>\n",
       "      <td>221.9</td>\n",
       "      <td>3</td>\n",
       "      <td>1</td>\n",
       "      <td>1.18</td>\n",
       "      <td>5.650</td>\n",
       "      <td>1.0</td>\n",
       "      <td>NaN</td>\n",
       "      <td>0.0</td>\n",
       "      <td>...</td>\n",
       "      <td>7</td>\n",
       "      <td>1.18</td>\n",
       "      <td>0.00</td>\n",
       "      <td>1955</td>\n",
       "      <td>0.0</td>\n",
       "      <td>98178</td>\n",
       "      <td>47.5112</td>\n",
       "      <td>-122.257</td>\n",
       "      <td>1.34</td>\n",
       "      <td>5.650</td>\n",
       "    </tr>\n",
       "    <tr>\n",
       "      <th>1</th>\n",
       "      <td>6414100192</td>\n",
       "      <td>12/9/2014</td>\n",
       "      <td>538.0</td>\n",
       "      <td>3</td>\n",
       "      <td>2</td>\n",
       "      <td>2.57</td>\n",
       "      <td>7.242</td>\n",
       "      <td>2.0</td>\n",
       "      <td>0.0</td>\n",
       "      <td>0.0</td>\n",
       "      <td>...</td>\n",
       "      <td>7</td>\n",
       "      <td>2.17</td>\n",
       "      <td>0.40</td>\n",
       "      <td>1951</td>\n",
       "      <td>1991.0</td>\n",
       "      <td>98125</td>\n",
       "      <td>47.7210</td>\n",
       "      <td>-122.319</td>\n",
       "      <td>1.69</td>\n",
       "      <td>7.639</td>\n",
       "    </tr>\n",
       "    <tr>\n",
       "      <th>2</th>\n",
       "      <td>5631500400</td>\n",
       "      <td>2/25/2015</td>\n",
       "      <td>180.0</td>\n",
       "      <td>2</td>\n",
       "      <td>1</td>\n",
       "      <td>0.77</td>\n",
       "      <td>10.000</td>\n",
       "      <td>1.0</td>\n",
       "      <td>0.0</td>\n",
       "      <td>0.0</td>\n",
       "      <td>...</td>\n",
       "      <td>6</td>\n",
       "      <td>0.77</td>\n",
       "      <td>0.00</td>\n",
       "      <td>1933</td>\n",
       "      <td>NaN</td>\n",
       "      <td>98028</td>\n",
       "      <td>47.7379</td>\n",
       "      <td>-122.233</td>\n",
       "      <td>2.72</td>\n",
       "      <td>8.062</td>\n",
       "    </tr>\n",
       "    <tr>\n",
       "      <th>3</th>\n",
       "      <td>2487200875</td>\n",
       "      <td>12/9/2014</td>\n",
       "      <td>604.0</td>\n",
       "      <td>4</td>\n",
       "      <td>3</td>\n",
       "      <td>1.96</td>\n",
       "      <td>5.000</td>\n",
       "      <td>1.0</td>\n",
       "      <td>0.0</td>\n",
       "      <td>0.0</td>\n",
       "      <td>...</td>\n",
       "      <td>7</td>\n",
       "      <td>1.05</td>\n",
       "      <td>0.91</td>\n",
       "      <td>1965</td>\n",
       "      <td>0.0</td>\n",
       "      <td>98136</td>\n",
       "      <td>47.5208</td>\n",
       "      <td>-122.393</td>\n",
       "      <td>1.36</td>\n",
       "      <td>5.000</td>\n",
       "    </tr>\n",
       "    <tr>\n",
       "      <th>4</th>\n",
       "      <td>1954400510</td>\n",
       "      <td>2/18/2015</td>\n",
       "      <td>510.0</td>\n",
       "      <td>3</td>\n",
       "      <td>2</td>\n",
       "      <td>1.68</td>\n",
       "      <td>8.080</td>\n",
       "      <td>1.0</td>\n",
       "      <td>0.0</td>\n",
       "      <td>0.0</td>\n",
       "      <td>...</td>\n",
       "      <td>8</td>\n",
       "      <td>1.68</td>\n",
       "      <td>0.00</td>\n",
       "      <td>1987</td>\n",
       "      <td>0.0</td>\n",
       "      <td>98074</td>\n",
       "      <td>47.6168</td>\n",
       "      <td>-122.045</td>\n",
       "      <td>1.80</td>\n",
       "      <td>7.503</td>\n",
       "    </tr>\n",
       "  </tbody>\n",
       "</table>\n",
       "<p>5 rows × 21 columns</p>\n",
       "</div>"
      ],
      "text/plain": [
       "           id        date  price  bedrooms  bathrooms  sqft_living  sqft_lot  \\\n",
       "0  7129300520  10/13/2014  221.9         3          1         1.18     5.650   \n",
       "1  6414100192   12/9/2014  538.0         3          2         2.57     7.242   \n",
       "2  5631500400   2/25/2015  180.0         2          1         0.77    10.000   \n",
       "3  2487200875   12/9/2014  604.0         4          3         1.96     5.000   \n",
       "4  1954400510   2/18/2015  510.0         3          2         1.68     8.080   \n",
       "\n",
       "   floors  waterfront  view  ...  grade  sqft_above  sqft_basement  yr_built  \\\n",
       "0     1.0         NaN   0.0  ...      7        1.18           0.00      1955   \n",
       "1     2.0         0.0   0.0  ...      7        2.17           0.40      1951   \n",
       "2     1.0         0.0   0.0  ...      6        0.77           0.00      1933   \n",
       "3     1.0         0.0   0.0  ...      7        1.05           0.91      1965   \n",
       "4     1.0         0.0   0.0  ...      8        1.68           0.00      1987   \n",
       "\n",
       "   yr_renovated  zipcode      lat     long  sqft_living15  sqft_lot15  \n",
       "0           0.0    98178  47.5112 -122.257           1.34       5.650  \n",
       "1        1991.0    98125  47.7210 -122.319           1.69       7.639  \n",
       "2           NaN    98028  47.7379 -122.233           2.72       8.062  \n",
       "3           0.0    98136  47.5208 -122.393           1.36       5.000  \n",
       "4           0.0    98074  47.6168 -122.045           1.80       7.503  \n",
       "\n",
       "[5 rows x 21 columns]"
      ]
     },
     "execution_count": 2,
     "metadata": {},
     "output_type": "execute_result"
    }
   ],
   "source": [
    "# read the original file\n",
    "df = pd.read_csv(\"King_County_house_prices_dataset.csv\")\n",
    "\n",
    "# handling bathrooms\n",
    "df[\"bathrooms\"] = df[\"bathrooms\"].apply(lambda x: round(x))\n",
    "\n",
    "# convert variables\n",
    "# following variables are in thousand dollars and sqft\n",
    "df[\"price\"] = df[\"price\"].apply(lambda x: x*0.001)\n",
    "df[\"sqft_lot\"] = df[\"sqft_lot\"].apply(lambda x: x*0.001)\n",
    "df[\"sqft_living\"] = df[\"sqft_living\"].apply(lambda x: x*0.001)\n",
    "df[\"sqft_above\"] = df[\"sqft_above\"].apply(lambda x: x*0.001)\n",
    "df[\"sqft_living15\"] = df[\"sqft_living15\"].apply(lambda x: x*0.001)\n",
    "df[\"sqft_lot15\"] = df[\"sqft_lot15\"].apply(lambda x: x*0.001)\n",
    "\n",
    "df.sqft_basement = pd.to_numeric(df.sqft_basement, errors='coerce')\n",
    "df[\"sqft_basement\"] = df[\"sqft_basement\"].apply(lambda x: x*0.001)\n",
    "\n",
    "df.head(5)"
   ]
  },
  {
   "cell_type": "code",
   "execution_count": 30,
   "metadata": {},
   "outputs": [
    {
     "name": "stdout",
     "output_type": "stream",
     "text": [
      "135.0\n",
      "1600.0\n",
      "count    20748.000000\n",
      "mean       517.402594\n",
      "std        282.079283\n",
      "min        134.000000\n",
      "25%        320.000000\n",
      "50%        449.114000\n",
      "75%        633.725500\n",
      "max       1960.000000\n",
      "Name: price, dtype: float64\n",
      "1.7474804284294294\n"
     ]
    }
   ],
   "source": [
    "print(df['price'].quantile(0.0005))\n",
    "print(df['price'].quantile(0.99))\n",
    "print(df['price'].describe())\n",
    "print(df['price'].skew())"
   ]
  },
  {
   "cell_type": "code",
   "execution_count": 4,
   "metadata": {},
   "outputs": [],
   "source": [
    "#df[\"price\"] = np.where(df[\"price\"] <2960.0, 2960.0,df['price'])\n",
    "#df[\"price\"] = np.where(df[\"price\"] >12681.0, 12681.0,df['price'])"
   ]
  },
  {
   "cell_type": "code",
   "execution_count": 5,
   "metadata": {},
   "outputs": [
    {
     "name": "stdout",
     "output_type": "stream",
     "text": [
      "1.7494213954617406\n"
     ]
    }
   ],
   "source": [
    "df = df.query(\"price > 133.988 and price < 1970.0\")\n",
    "print(df['price'].skew())"
   ]
  },
  {
   "cell_type": "code",
   "execution_count": null,
   "metadata": {},
   "outputs": [],
   "source": []
  },
  {
   "cell_type": "code",
   "execution_count": null,
   "metadata": {},
   "outputs": [],
   "source": []
  },
  {
   "cell_type": "code",
   "execution_count": 14,
   "metadata": {},
   "outputs": [
    {
     "name": "stdout",
     "output_type": "stream",
     "text": [
      "0.711\n",
      "107.157\n",
      "count    21272.000000\n",
      "mean        15.015761\n",
      "std         41.069784\n",
      "min          0.520000\n",
      "25%          5.024000\n",
      "50%          7.578500\n",
      "75%         10.560000\n",
      "max       1651.359000\n",
      "Name: sqft_lot, dtype: float64\n",
      "13.033609950488763\n"
     ]
    }
   ],
   "source": [
    "print(df['sqft_lot'].quantile(0.001))\n",
    "print(df['sqft_lot'].quantile(0.98))\n",
    "print(df['sqft_lot'].describe())\n",
    "print(df['sqft_lot'].skew())\n"
   ]
  },
  {
   "cell_type": "code",
   "execution_count": 15,
   "metadata": {},
   "outputs": [
    {
     "name": "stdout",
     "output_type": "stream",
     "text": [
      "4.027947022059891\n"
     ]
    }
   ],
   "source": [
    "df = df.query(\"sqft_lot < 107.157\")\n",
    "print(df['sqft_lot'].skew())"
   ]
  },
  {
   "cell_type": "code",
   "execution_count": 27,
   "metadata": {},
   "outputs": [
    {
     "name": "stdout",
     "output_type": "stream",
     "text": [
      "0.886\n",
      "96.34557399999838\n",
      "count    20790.000000\n",
      "mean         9.632603\n",
      "std         10.255570\n",
      "min          0.651000\n",
      "25%          5.040000\n",
      "50%          7.519000\n",
      "75%          9.825750\n",
      "max        114.728000\n",
      "Name: sqft_lot15, dtype: float64\n",
      "4.578647793344203\n"
     ]
    }
   ],
   "source": [
    "print(df['sqft_lot15'].quantile(0.001))\n",
    "print(df['sqft_lot15'].quantile(0.998))\n",
    "print(df['sqft_lot15'].describe())\n",
    "print(df['sqft_lot15'].skew())"
   ]
  },
  {
   "cell_type": "code",
   "execution_count": 28,
   "metadata": {},
   "outputs": [
    {
     "name": "stdout",
     "output_type": "stream",
     "text": [
      "4.018184570428154\n"
     ]
    }
   ],
   "source": [
    "df = df.query(\"sqft_lot15 < 96.34557399999838\")\n",
    "print(df['sqft_lot15'].skew())"
   ]
  },
  {
   "cell_type": "code",
   "execution_count": null,
   "metadata": {},
   "outputs": [],
   "source": [
    "df = df.query(\"bedrooms < 33\")\n",
    "df = df.query(\"price < 1970.0\")\n",
    "df = df.query(\"sqft_lot < 107.157\")\n",
    "df = df.query(\"sqft_lot15 < 96.34557399999838\")\n"
   ]
  }
 ],
 "metadata": {
  "kernelspec": {
   "display_name": "Python 3",
   "language": "python",
   "name": "python3"
  },
  "language_info": {
   "codemirror_mode": {
    "name": "ipython",
    "version": 3
   },
   "file_extension": ".py",
   "mimetype": "text/x-python",
   "name": "python",
   "nbconvert_exporter": "python",
   "pygments_lexer": "ipython3",
   "version": "3.8.5"
  }
 },
 "nbformat": 4,
 "nbformat_minor": 4
}
